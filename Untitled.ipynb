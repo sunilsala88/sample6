{
 "cells": [
  {
   "cell_type": "code",
   "execution_count": 25,
   "id": "2f98c8ba",
   "metadata": {},
   "outputs": [],
   "source": [
    "import finnhub\n",
    "import numpy as np #The Numpy numerical computing library\n",
    "import pandas as pd #The Pandas data science library\n",
    "import math"
   ]
  },
  {
   "cell_type": "code",
   "execution_count": 26,
   "id": "15f33d33",
   "metadata": {},
   "outputs": [
    {
     "name": "stdout",
     "output_type": "stream",
     "text": [
      "apple stock value\n",
      "{'c': 163.17, 'd': -3.06, 'dp': -1.8408, 'h': 165.55, 'l': 162.11, 'o': 164.49, 'pc': 166.23, 't': 1646427603}\n"
     ]
    }
   ],
   "source": [
    "#fetching data from finhub server\n",
    "\n",
    "finnhub_client = finnhub.Client(api_key=\"c8hc8q2ad3i9rgv9ithg\")\n",
    "x=finnhub_client.quote('AAPL')\n",
    "print(\"apple stock value\")\n",
    "print(x)"
   ]
  },
  {
   "cell_type": "code",
   "execution_count": 27,
   "id": "e5731e79",
   "metadata": {},
   "outputs": [
    {
     "name": "stdout",
     "output_type": "stream",
     "text": [
      "Empty DataFrame\n",
      "Columns: [Ticker, Price, High, Low, Number Of Shares to Buy]\n",
      "Index: []\n"
     ]
    }
   ],
   "source": [
    "#making our own dataframe\n",
    "\n",
    "my_columns = ['Ticker', 'Price','High','Low', 'Number Of Shares to Buy']\n",
    "final_dataframe = pd.DataFrame(columns = my_columns)\n",
    "print(final_dataframe)"
   ]
  },
  {
   "cell_type": "code",
   "execution_count": 28,
   "id": "1be92648",
   "metadata": {},
   "outputs": [
    {
     "name": "stdout",
     "output_type": "stream",
     "text": [
      "    Ticker   Price      High       Low Number Of Shares to Buy\n",
      "0        A  133.89  137.1200  132.1400                     N/A\n",
      "1      AAL   14.59   15.4799   14.4200                     N/A\n",
      "2      AAP  206.62  208.1033  202.4800                     N/A\n",
      "3     AAPL  163.17  165.5500  162.1100                     N/A\n",
      "4     ABBV  150.56  150.6800  148.1007                     N/A\n",
      "..     ...     ...       ...       ...                     ...\n",
      "500    YUM  118.73  118.8800  116.3400                     N/A\n",
      "501    ZBH  120.44  121.1600  119.0500                     N/A\n",
      "502   ZBRA  394.24  404.5000  391.8800                     N/A\n",
      "503   ZION   65.39   66.6100   64.4800                     N/A\n",
      "504    ZTS  196.84  196.9600  193.4500                     N/A\n",
      "\n",
      "[505 rows x 5 columns]\n"
     ]
    }
   ],
   "source": [
    "#importing data from server of all the stocks available in csv file\n",
    "\n",
    "df = pd.read_csv(\"sp_500_stocks.csv\")\n",
    "for stock_name in df['Ticker']:\n",
    "    x=finnhub_client.quote(stock_name)\n",
    "    final_dataframe.loc[len(final_dataframe.index)] = [stock_name, x['c'],x['h'],x['l'],'N/A'] \n",
    "print(final_dataframe)"
   ]
  },
  {
   "cell_type": "code",
   "execution_count": 29,
   "id": "9474ea95",
   "metadata": {},
   "outputs": [
    {
     "name": "stdout",
     "output_type": "stream",
     "text": [
      "Enter the value of your portfolio:1000000\n",
      "1984.126984126984\n"
     ]
    }
   ],
   "source": [
    "portfolio_size = input(\"Enter the value of your portfolio:\")\n",
    "position_size = float(portfolio_size)/(len(final_dataframe['Ticker'])-1)\n",
    "print(position_size)"
   ]
  },
  {
   "cell_type": "code",
   "execution_count": 38,
   "id": "b6deac10",
   "metadata": {},
   "outputs": [
    {
     "name": "stdout",
     "output_type": "stream",
     "text": [
      "    Ticker   Price      High       Low Number Of Shares to Buy\n",
      "0        A  133.89  137.1200  132.1400                      14\n",
      "1      AAL   14.59   15.4799   14.4200                     135\n",
      "2      AAP  206.62  208.1033  202.4800                       9\n",
      "3     AAPL  163.17  165.5500  162.1100                      12\n",
      "4     ABBV  150.56  150.6800  148.1007                      13\n",
      "..     ...     ...       ...       ...                     ...\n",
      "500    YUM  118.73  118.8800  116.3400                      16\n",
      "501    ZBH  120.44  121.1600  119.0500                      16\n",
      "502   ZBRA  394.24  404.5000  391.8800                       5\n",
      "503   ZION   65.39   66.6100   64.4800                      30\n",
      "504    ZTS  196.84  196.9600  193.4500                      10\n",
      "\n",
      "[505 rows x 5 columns]\n"
     ]
    }
   ],
   "source": [
    "for i in range(0, len(final_dataframe['Ticker'])):\n",
    "    if final_dataframe['Price'][i]==0:\n",
    "        final_dataframe.loc[i, 'Number Of Shares to Buy']=0\n",
    "    else:\n",
    "        final_dataframe.loc[i, 'Number Of Shares to Buy'] = int(position_size/final_dataframe['Price'][i])\n",
    "    \n",
    "        \n",
    "print(final_dataframe)"
   ]
  },
  {
   "cell_type": "code",
   "execution_count": 39,
   "id": "0afdf33c",
   "metadata": {},
   "outputs": [],
   "source": [
    "final_dataframe.to_csv('buy_stock.csv')"
   ]
  }
 ],
 "metadata": {
  "kernelspec": {
   "display_name": "Python 3 (ipykernel)",
   "language": "python",
   "name": "python3"
  },
  "language_info": {
   "codemirror_mode": {
    "name": "ipython",
    "version": 3
   },
   "file_extension": ".py",
   "mimetype": "text/x-python",
   "name": "python",
   "nbconvert_exporter": "python",
   "pygments_lexer": "ipython3",
   "version": "3.9.5"
  }
 },
 "nbformat": 4,
 "nbformat_minor": 5
}
